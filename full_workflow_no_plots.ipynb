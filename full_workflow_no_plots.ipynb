{
 "cells": [
  {
   "cell_type": "markdown",
   "id": "5251de14",
   "metadata": {},
   "source": [
    "# Plotting Ballistic Ejecta from the South Pole-Aitken Impact\n",
    "\n",
    "## Workflow:\n",
    "This script runs through all the tracers in the data file and selects the tracers that follow a ballistic trajectory. It outputs the results to a csv file which can be used for plotting."
   ]
  },
  {
   "cell_type": "code",
   "execution_count": 1,
   "id": "09e580bf",
   "metadata": {},
   "outputs": [],
   "source": [
    "#import python packages \n",
    "import tools\n",
    "import numpy as np\n",
    "import pandas as pd"
   ]
  },
  {
   "cell_type": "code",
   "execution_count": 2,
   "id": "b7d95edb",
   "metadata": {},
   "outputs": [],
   "source": [
    "#import the data file. Change the path to your file :) \n",
    "data = tools.load_ballistic_data(\"/data2/tmd02/SPA/v10/tracer_export_all.npz\", end = 400)\n",
    "# print(data['ymark'].max())"
   ]
  },
  {
   "cell_type": "code",
   "execution_count": 3,
   "id": "b649714e",
   "metadata": {},
   "outputs": [],
   "source": [
    "#get data\n",
    "velocity_data = tools.get_velocity(data)\n",
    "radial_distance_data = tools.get_radial_distance(data)\n",
    "radial_velocity_data = tools.get_radial_velocity(data)\n",
    "radial_acceleration_data = tools.get_radial_acceleration(data, radial_velocity_data)\n",
    "average_time = tools.get_average_time(data)"
   ]
  },
  {
   "cell_type": "code",
   "execution_count": 4,
   "id": "ca8de89f",
   "metadata": {},
   "outputs": [],
   "source": [
    "h_launch = 150\n",
    "tracer_idxs, time_steps = tools.BallisticCheckVec(data, h_launch)\n",
    "# print(time_steps)\n",
    "# print(tracer_idxs[398])\n",
    "# print(time_steps.max())\n",
    "# print(np.min(time_steps))\n",
    "# print(np.max(time_steps))\n",
    "# print(time_steps.shape)\n",
    "ejection_times = data['time'][time_steps]"
   ]
  },
  {
   "cell_type": "code",
   "execution_count": 5,
   "id": "03902210",
   "metadata": {},
   "outputs": [],
   "source": [
    "tracer_material = data['trm'][tracer_idxs]"
   ]
  },
  {
   "cell_type": "code",
   "execution_count": 6,
   "id": "f2153e97",
   "metadata": {},
   "outputs": [],
   "source": [
    "R0 = 1750\n",
    "g0 = 0.00162\n",
    "\n",
    "g = g0 * R0**2 / (R0 + h_launch) **2\n",
    "v_tilda = tools.get_v_tilda_vec(velocity_data, tracer_idxs, time_steps, R0 + h_launch, g)"
   ]
  },
  {
   "cell_type": "code",
   "execution_count": 7,
   "id": "cdab664e",
   "metadata": {},
   "outputs": [],
   "source": [
    "v_r, longitude, latitude = tools.get_launch_vector_vec(data,velocity_data, tracer_idxs, time_steps)\n",
    "longitude_magnitude, longitude_direction = longitude\n",
    "latitude_magnitude, latitude_direction = latitude"
   ]
  },
  {
   "cell_type": "code",
   "execution_count": 8,
   "id": "a1f2ff33",
   "metadata": {
    "scrolled": true
   },
   "outputs": [
    {
     "name": "stderr",
     "output_type": "stream",
     "text": [
      "/home/nb3018/SPA/tools/ballistics.py:105: RuntimeWarning: invalid value encountered in arccos\n",
      "  beta = np.arccos(data['zmark'] / (data['r']+ 1e-12))[:, :-1]  # angle at the centre of the moon\n"
     ]
    }
   ],
   "source": [
    "theta_launch, height, distance, azimuth = tools.get_ballistic_vectors_vec(data, velocity_data, tracer_idxs, time_steps, h_launch, R0, g0)"
   ]
  },
  {
   "cell_type": "code",
   "execution_count": 9,
   "id": "e088aca9",
   "metadata": {},
   "outputs": [
    {
     "name": "stdout",
     "output_type": "stream",
     "text": [
      "height min = -1906276.9111188329\n",
      "height max = 8709362.895077338\n",
      "height mean = -96.39903478598517\n",
      "height median 0.00016952784608481478\n"
     ]
    }
   ],
   "source": [
    "print('height min =',height.min())\n",
    "print('height max =',height.max())\n",
    "print('height mean =',height.mean())\n",
    "print('height median', np.median(height))"
   ]
  },
  {
   "cell_type": "code",
   "execution_count": 10,
   "id": "28bc489e",
   "metadata": {},
   "outputs": [],
   "source": [
    "#multiply the azimuth with -1 to get the right set up\n",
    "final_latitude, final_longitude = tools.track_vec(latitude[0], longitude[0], -1 * azimuth, distance)"
   ]
  },
  {
   "cell_type": "code",
   "execution_count": 12,
   "id": "f36221df",
   "metadata": {},
   "outputs": [],
   "source": [
    "c1 = final_longitude < 0\n",
    "c2 = final_longitude > 0\n",
    "final_longitude[c1] = final_longitude[c1] + 180\n",
    "final_longitude[c2] = final_longitude[c2] - 180\n",
    "final_latitude = -1 * final_latitude \n",
    "final_longitude = -1 * final_longitude"
   ]
  },
  {
   "cell_type": "code",
   "execution_count": 13,
   "id": "0422e3a1",
   "metadata": {},
   "outputs": [],
   "source": [
    "def make_dataframe(tracer_idxs, ejection_times, v_r, longitude, latitude, theta_launch, height, distance, final_longitude, final_latitude, tracer_material, azimuth):\n",
    "    initial_df = pd.DataFrame({'Tracer Index' : tracer_idxs, 'Ejection Time' : ejection_times, 'Resultant Velocity' : v_r, 'Launch Longitude' : longitude[0], 'Launch Latitude' : latitude[0], 'Launch Angle' : theta_launch, 'Height' : height, 'Distance' : distance, 'Landing Longitude' : final_longitude, 'Landing Latitude' : final_latitude, 'Tracer Material' : tracer_material, 'Azimuth' : azimuth})\n",
    "    return initial_df"
   ]
  },
  {
   "cell_type": "code",
   "execution_count": 14,
   "id": "d78aa684",
   "metadata": {},
   "outputs": [],
   "source": [
    "df = make_dataframe(tracer_idxs, ejection_times, v_r, longitude, latitude, theta_launch, height, distance, final_longitude, final_latitude, tracer_material, azimuth)\n",
    "# print(df['Launch Longitude'][df['Launch Longitude'] < 150])\n",
    "# print(df['Ejection Time'][df['Ejection Time'] > 0].min())\n",
    "# print(df.Distance)\n",
    "# print(df.Distance.describe())\n",
    "# print(df[df.Distance < 0])\n",
    "# # print(df['Ejection Time'].describe())\n",
    "# print(df.loc[1360])\n",
    "# print(df['Resultant Velocity'].describe())\n",
    "# # print(df['Tracer Material'].value_counts())\n",
    "# print(df['Resultant Velocity'].describe())"
   ]
  },
  {
   "cell_type": "code",
   "execution_count": 15,
   "id": "36b0a866",
   "metadata": {},
   "outputs": [
    {
     "data": {
      "text/html": [
       "<div>\n",
       "<style scoped>\n",
       "    .dataframe tbody tr th:only-of-type {\n",
       "        vertical-align: middle;\n",
       "    }\n",
       "\n",
       "    .dataframe tbody tr th {\n",
       "        vertical-align: top;\n",
       "    }\n",
       "\n",
       "    .dataframe thead th {\n",
       "        text-align: right;\n",
       "    }\n",
       "</style>\n",
       "<table border=\"1\" class=\"dataframe\">\n",
       "  <thead>\n",
       "    <tr style=\"text-align: right;\">\n",
       "      <th></th>\n",
       "      <th>Tracer Index</th>\n",
       "      <th>Ejection Time</th>\n",
       "      <th>Resultant Velocity</th>\n",
       "      <th>Launch Longitude</th>\n",
       "      <th>Launch Latitude</th>\n",
       "      <th>Launch Angle</th>\n",
       "      <th>Height</th>\n",
       "      <th>Distance</th>\n",
       "      <th>Landing Longitude</th>\n",
       "      <th>Landing Latitude</th>\n",
       "      <th>Tracer Material</th>\n",
       "      <th>Azimuth</th>\n",
       "    </tr>\n",
       "  </thead>\n",
       "  <tbody>\n",
       "    <tr>\n",
       "      <td>9022</td>\n",
       "      <td>9024</td>\n",
       "      <td>16.027889</td>\n",
       "      <td>2.125183</td>\n",
       "      <td>137.000553</td>\n",
       "      <td>87.811654</td>\n",
       "      <td>-59.441600</td>\n",
       "      <td>11716.794955</td>\n",
       "      <td>3157.531676</td>\n",
       "      <td>4.299945e+01</td>\n",
       "      <td>15.567339</td>\n",
       "      <td>3.0</td>\n",
       "      <td>180.0</td>\n",
       "    </tr>\n",
       "    <tr>\n",
       "      <td>16277</td>\n",
       "      <td>16280</td>\n",
       "      <td>16.027889</td>\n",
       "      <td>0.001607</td>\n",
       "      <td>180.000000</td>\n",
       "      <td>84.048506</td>\n",
       "      <td>-32.878331</td>\n",
       "      <td>0.000277</td>\n",
       "      <td>232.058802</td>\n",
       "      <td>1.989520e-13</td>\n",
       "      <td>-76.450797</td>\n",
       "      <td>2.0</td>\n",
       "      <td>180.0</td>\n",
       "    </tr>\n",
       "    <tr>\n",
       "      <td>16278</td>\n",
       "      <td>16281</td>\n",
       "      <td>16.027889</td>\n",
       "      <td>0.001560</td>\n",
       "      <td>180.000000</td>\n",
       "      <td>84.444215</td>\n",
       "      <td>-34.680573</td>\n",
       "      <td>0.000287</td>\n",
       "      <td>216.786178</td>\n",
       "      <td>1.989520e-13</td>\n",
       "      <td>-77.346539</td>\n",
       "      <td>2.0</td>\n",
       "      <td>180.0</td>\n",
       "    </tr>\n",
       "    <tr>\n",
       "      <td>16279</td>\n",
       "      <td>16282</td>\n",
       "      <td>16.027889</td>\n",
       "      <td>0.001533</td>\n",
       "      <td>180.000000</td>\n",
       "      <td>84.840549</td>\n",
       "      <td>-30.112970</td>\n",
       "      <td>0.000215</td>\n",
       "      <td>258.630109</td>\n",
       "      <td>1.989520e-13</td>\n",
       "      <td>-76.372884</td>\n",
       "      <td>2.0</td>\n",
       "      <td>180.0</td>\n",
       "    </tr>\n",
       "    <tr>\n",
       "      <td>16280</td>\n",
       "      <td>16283</td>\n",
       "      <td>16.027889</td>\n",
       "      <td>0.001554</td>\n",
       "      <td>180.000000</td>\n",
       "      <td>85.236654</td>\n",
       "      <td>-35.654798</td>\n",
       "      <td>0.000298</td>\n",
       "      <td>209.096657</td>\n",
       "      <td>1.989520e-13</td>\n",
       "      <td>-78.390736</td>\n",
       "      <td>2.0</td>\n",
       "      <td>180.0</td>\n",
       "    </tr>\n",
       "    <tr>\n",
       "      <td>...</td>\n",
       "      <td>...</td>\n",
       "      <td>...</td>\n",
       "      <td>...</td>\n",
       "      <td>...</td>\n",
       "      <td>...</td>\n",
       "      <td>...</td>\n",
       "      <td>...</td>\n",
       "      <td>...</td>\n",
       "      <td>...</td>\n",
       "      <td>...</td>\n",
       "      <td>...</td>\n",
       "      <td>...</td>\n",
       "    </tr>\n",
       "    <tr>\n",
       "      <td>635508</td>\n",
       "      <td>635511</td>\n",
       "      <td>16.027889</td>\n",
       "      <td>0.001918</td>\n",
       "      <td>180.000000</td>\n",
       "      <td>70.177211</td>\n",
       "      <td>-7.150055</td>\n",
       "      <td>0.000021</td>\n",
       "      <td>1195.754725</td>\n",
       "      <td>5.684342e-14</td>\n",
       "      <td>-31.027669</td>\n",
       "      <td>1.0</td>\n",
       "      <td>180.0</td>\n",
       "    </tr>\n",
       "    <tr>\n",
       "      <td>635509</td>\n",
       "      <td>635512</td>\n",
       "      <td>16.027889</td>\n",
       "      <td>0.001924</td>\n",
       "      <td>180.000000</td>\n",
       "      <td>69.681914</td>\n",
       "      <td>-10.723624</td>\n",
       "      <td>0.000047</td>\n",
       "      <td>792.063323</td>\n",
       "      <td>5.684342e-14</td>\n",
       "      <td>-43.749408</td>\n",
       "      <td>1.0</td>\n",
       "      <td>180.0</td>\n",
       "    </tr>\n",
       "    <tr>\n",
       "      <td>635510</td>\n",
       "      <td>635513</td>\n",
       "      <td>16.027889</td>\n",
       "      <td>0.001973</td>\n",
       "      <td>180.000000</td>\n",
       "      <td>69.186979</td>\n",
       "      <td>-5.355526</td>\n",
       "      <td>0.000012</td>\n",
       "      <td>1600.090357</td>\n",
       "      <td>5.684342e-14</td>\n",
       "      <td>-16.799308</td>\n",
       "      <td>1.0</td>\n",
       "      <td>180.0</td>\n",
       "    </tr>\n",
       "    <tr>\n",
       "      <td>635511</td>\n",
       "      <td>635514</td>\n",
       "      <td>16.027889</td>\n",
       "      <td>0.001973</td>\n",
       "      <td>180.000000</td>\n",
       "      <td>68.691201</td>\n",
       "      <td>-4.859748</td>\n",
       "      <td>0.000010</td>\n",
       "      <td>1764.237333</td>\n",
       "      <td>5.684342e-14</td>\n",
       "      <td>-10.929285</td>\n",
       "      <td>1.0</td>\n",
       "      <td>180.0</td>\n",
       "    </tr>\n",
       "    <tr>\n",
       "      <td>635512</td>\n",
       "      <td>635515</td>\n",
       "      <td>16.027889</td>\n",
       "      <td>0.002037</td>\n",
       "      <td>180.000000</td>\n",
       "      <td>68.196976</td>\n",
       "      <td>-7.835360</td>\n",
       "      <td>0.000028</td>\n",
       "      <td>1090.024112</td>\n",
       "      <td>5.684342e-14</td>\n",
       "      <td>-32.509101</td>\n",
       "      <td>1.0</td>\n",
       "      <td>180.0</td>\n",
       "    </tr>\n",
       "  </tbody>\n",
       "</table>\n",
       "<p>617156 rows × 12 columns</p>\n",
       "</div>"
      ],
      "text/plain": [
       "        Tracer Index  Ejection Time  Resultant Velocity  Launch Longitude  \\\n",
       "9022            9024      16.027889            2.125183        137.000553   \n",
       "16277          16280      16.027889            0.001607        180.000000   \n",
       "16278          16281      16.027889            0.001560        180.000000   \n",
       "16279          16282      16.027889            0.001533        180.000000   \n",
       "16280          16283      16.027889            0.001554        180.000000   \n",
       "...              ...            ...                 ...               ...   \n",
       "635508        635511      16.027889            0.001918        180.000000   \n",
       "635509        635512      16.027889            0.001924        180.000000   \n",
       "635510        635513      16.027889            0.001973        180.000000   \n",
       "635511        635514      16.027889            0.001973        180.000000   \n",
       "635512        635515      16.027889            0.002037        180.000000   \n",
       "\n",
       "        Launch Latitude  Launch Angle        Height     Distance  \\\n",
       "9022          87.811654    -59.441600  11716.794955  3157.531676   \n",
       "16277         84.048506    -32.878331      0.000277   232.058802   \n",
       "16278         84.444215    -34.680573      0.000287   216.786178   \n",
       "16279         84.840549    -30.112970      0.000215   258.630109   \n",
       "16280         85.236654    -35.654798      0.000298   209.096657   \n",
       "...                 ...           ...           ...          ...   \n",
       "635508        70.177211     -7.150055      0.000021  1195.754725   \n",
       "635509        69.681914    -10.723624      0.000047   792.063323   \n",
       "635510        69.186979     -5.355526      0.000012  1600.090357   \n",
       "635511        68.691201     -4.859748      0.000010  1764.237333   \n",
       "635512        68.196976     -7.835360      0.000028  1090.024112   \n",
       "\n",
       "        Landing Longitude  Landing Latitude  Tracer Material  Azimuth  \n",
       "9022         4.299945e+01         15.567339              3.0    180.0  \n",
       "16277        1.989520e-13        -76.450797              2.0    180.0  \n",
       "16278        1.989520e-13        -77.346539              2.0    180.0  \n",
       "16279        1.989520e-13        -76.372884              2.0    180.0  \n",
       "16280        1.989520e-13        -78.390736              2.0    180.0  \n",
       "...                   ...               ...              ...      ...  \n",
       "635508       5.684342e-14        -31.027669              1.0    180.0  \n",
       "635509       5.684342e-14        -43.749408              1.0    180.0  \n",
       "635510       5.684342e-14        -16.799308              1.0    180.0  \n",
       "635511       5.684342e-14        -10.929285              1.0    180.0  \n",
       "635512       5.684342e-14        -32.509101              1.0    180.0  \n",
       "\n",
       "[617156 rows x 12 columns]"
      ]
     },
     "execution_count": 15,
     "metadata": {},
     "output_type": "execute_result"
    }
   ],
   "source": [
    "df = df[df['Resultant Velocity']< 2.38] \n",
    "df"
   ]
  },
  {
   "cell_type": "code",
   "execution_count": 16,
   "id": "354e7271",
   "metadata": {},
   "outputs": [],
   "source": [
    "#save the dataframe as a csv file \n",
    "df.to_csv(\"full_tracer_v10.csv\", index=False)    "
   ]
  },
  {
   "cell_type": "code",
   "execution_count": null,
   "id": "676b3199",
   "metadata": {},
   "outputs": [],
   "source": []
  }
 ],
 "metadata": {
  "kernelspec": {
   "display_name": "Python 3",
   "language": "python",
   "name": "python3"
  },
  "language_info": {
   "codemirror_mode": {
    "name": "ipython",
    "version": 3
   },
   "file_extension": ".py",
   "mimetype": "text/x-python",
   "name": "python",
   "nbconvert_exporter": "python",
   "pygments_lexer": "ipython3",
   "version": "3.6.9"
  }
 },
 "nbformat": 4,
 "nbformat_minor": 5
}
